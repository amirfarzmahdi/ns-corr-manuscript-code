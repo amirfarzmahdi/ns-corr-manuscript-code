{
 "cells": [
  {
   "cell_type": "code",
   "execution_count": null,
   "metadata": {},
   "outputs": [],
   "source": [
    "# figure 6A: measuring likelihood of shared and ind gsm over bsd500 natural images\n",
    "# author: Amir Farzmahdi\n",
    "# last update: June 17th, 2024"
   ]
  },
  {
   "cell_type": "code",
   "execution_count": null,
   "metadata": {},
   "outputs": [],
   "source": [
    "# library imports\n",
    "import os\n",
    "import random\n",
    "import pickle\n",
    "import numpy as np\n",
    "import matplotlib\n",
    "import matplotlib.pyplot as plt\n",
    "import pyrtools as pt\n",
    "import time\n",
    "import scipy as sp\n",
    "import pandas as pd\n",
    "import math"
   ]
  },
  {
   "cell_type": "code",
   "execution_count": null,
   "metadata": {},
   "outputs": [],
   "source": [
    "# set random seed\n",
    "np.random.seed(42)\n",
    "random.seed(42)"
   ]
  },
  {
   "cell_type": "code",
   "execution_count": null,
   "metadata": {},
   "outputs": [],
   "source": [
    "# setting\n",
    "\n",
    "# filters parameters\n",
    "n_loc = 17 \n",
    "n_theta = 15\n",
    "g_num_filts = 36\n",
    "ncs_s = 36\n",
    "ncs_i = 36\n",
    "ntest = 10000 "
   ]
  },
  {
   "cell_type": "code",
   "execution_count": null,
   "metadata": {},
   "outputs": [],
   "source": [
    "# load covariance matrix\n",
    "with open('cov_mat_test_res.csv', \"rb\") as fp:\n",
    "    model_res = pickle.load(fp)  \n",
    "train_cov_mat = model_res['train_cov_mat']\n",
    "test_filter_sz_res = model_res['test_filter_sz_res']"
   ]
  },
  {
   "cell_type": "code",
   "execution_count": null,
   "metadata": {},
   "outputs": [],
   "source": [
    "# geometry mean function\n",
    "def geo_mean_overflow(iterable):\n",
    "    return np.exp(np.log(iterable).mean())"
   ]
  },
  {
   "cell_type": "code",
   "execution_count": null,
   "metadata": {},
   "outputs": [],
   "source": [
    "# generate a mask for cov matrix of independent case\n",
    "mask = np.zeros((g_num_filts,g_num_filts))\n",
    "mask[:int(g_num_filts/2),:int(g_num_filts/2)] = 1\n",
    "mask[int(g_num_filts/2):,int(g_num_filts/2):] = 1"
   ]
  },
  {
   "cell_type": "code",
   "execution_count": null,
   "metadata": {},
   "outputs": [],
   "source": [
    "# natural image likelihood, based on Coen-Cagli et. al (2009)\n",
    "p_indp = []\n",
    "p_shared = []\n",
    "\n",
    "p_shared_locs_imgs = np.zeros((n_loc,n_theta))\n",
    "p_indp_locs_imgs = np.zeros((n_loc,n_theta))\n",
    "p_diff = np.zeros((n_loc,n_theta))\n",
    "for i_loc in range(0,n_loc):\n",
    "    for i_theta in range(0,n_theta):\n",
    "        idx = np.linspace((i_theta*g_num_filts),(i_theta+1)*g_num_filts-1,g_num_filts).astype(int)\n",
    "        p_indp = []\n",
    "        p_shared = []\n",
    "        \n",
    "        # shared\n",
    "        cov_mat_shared = train_cov_mat[i_loc,i_theta,:,:]\n",
    "        inv_cov_mat_shared = np.linalg.inv(cov_mat_shared)\n",
    "        det_inv_cov_mat_shared = np.linalg.det(inv_cov_mat_shared)\n",
    "        \n",
    "        # independent\n",
    "        cov_mat_indp = cov_mat_shared * mask\n",
    "        inv_cov_mat_indp = np.linalg.inv(cov_mat_indp)\n",
    "        det_inv_cov_mat_indp = np.linalg.det(inv_cov_mat_indp)\n",
    "        \n",
    "        # loop over entire test images\n",
    "        for i in range(0, ntest):\n",
    "            img_res = test_filter_sz_res[i,i_loc,idx]\n",
    "            \n",
    "            # shared\n",
    "            lambda_ = np.sqrt(img_res.T @ inv_cov_mat_shared @ img_res) \n",
    "            p_shared.append((np.power(det_inv_cov_mat_shared,1/2)/np.power(2*math.pi,ncs_s/2)) \n",
    "                            * (sp.special.kv((1-ncs_s/2),lambda_)/np.power(lambda_,ncs_s/2-1)))\n",
    "            # independent\n",
    "            lambda_ = np.sqrt(img_res.T @ inv_cov_mat_indp @ img_res)\n",
    "            p_indp.append((np.power(det_inv_cov_mat_indp,1/2)/np.power(2*math.pi,ncs_i/2)) \n",
    "                          * (sp.special.kv((1-ncs_i/2),lambda_)/np.power(lambda_,ncs_i/2-1)))\n",
    "\n",
    "        p_shared_locs_imgs[i_loc,i_theta] = geo_mean_overflow(p_shared)\n",
    "        p_indp_locs_imgs[i_loc,i_theta] = geo_mean_overflow(p_indp)\n",
    "        p_diff[i_loc,i_theta] = np.log(geo_mean_overflow(p_shared)) - np.log(geo_mean_overflow(p_indp))"
   ]
  },
  {
   "cell_type": "code",
   "execution_count": null,
   "metadata": {},
   "outputs": [],
   "source": [
    "# save p_diff\n",
    "with open(f'p_diff_nat_images_{n_loc}_locs_{n_theta}_oris.csv', \"wb\") as fp:  \n",
    "    pickle.dump(dict(p_diff=p_diff),fp)"
   ]
  }
 ],
 "metadata": {
  "kernelspec": {
   "display_name": "psycho_env",
   "language": "python",
   "name": "python3"
  },
  "language_info": {
   "codemirror_mode": {
    "name": "ipython",
    "version": 3
   },
   "file_extension": ".py",
   "mimetype": "text/x-python",
   "name": "python",
   "nbconvert_exporter": "python",
   "pygments_lexer": "ipython3",
   "version": "3.7.11"
  },
  "orig_nbformat": 4
 },
 "nbformat": 4,
 "nbformat_minor": 2
}
