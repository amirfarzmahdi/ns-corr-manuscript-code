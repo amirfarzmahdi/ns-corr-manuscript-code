{
 "cells": [
  {
   "cell_type": "code",
   "execution_count": null,
   "metadata": {},
   "outputs": [],
   "source": [
    "# plotting rsc versus rsignal and distance for model and neural data \n",
    "# author: Amir Farzmahdi\n",
    "# last update: June 25th 2024"
   ]
  },
  {
   "cell_type": "code",
   "execution_count": null,
   "metadata": {},
   "outputs": [],
   "source": [
    "# packages\n",
    "import numpy as np\n",
    "import seaborn as sns\n",
    "import matplotlib\n",
    "import matplotlib.pyplot as plt\n",
    "import scipy as sp\n",
    "import pandas as pd\n",
    "import os\n",
    "import sys\n",
    "import pickle\n",
    "import math \n",
    "import random\n",
    "from scipy.io import loadmat\n",
    "from matplotlib.colors import LinearSegmentedColormap"
   ]
  },
  {
   "cell_type": "code",
   "execution_count": null,
   "metadata": {},
   "outputs": [],
   "source": [
    "# set random seed\n",
    "np.random.seed(42)\n",
    "random.seed(42)"
   ]
  },
  {
   "cell_type": "code",
   "execution_count": null,
   "metadata": {},
   "outputs": [],
   "source": [
    "# setting\n",
    "\n",
    "# font parameters\n",
    "matplotlib.rcParams['font.family'] = 'Arial'\n",
    "matplotlib.rcParams['font.size'] = 8"
   ]
  },
  {
   "cell_type": "code",
   "execution_count": null,
   "metadata": {},
   "outputs": [],
   "source": [
    "# load figure 6A\n",
    "with open('p_diff_nat_images_17_locs_15_oris.csv', \"rb\") as fp:   # Unpickling\n",
    "    res = pickle.load(fp)"
   ]
  },
  {
   "cell_type": "code",
   "execution_count": null,
   "metadata": {},
   "outputs": [],
   "source": [
    "# load figure 6B\n",
    "with open('drsc_model_imgs_stats_sorted_17_locs_15_oris_ncov_overlapped_offset_2.csv', \"rb\") as fp:   # Unpickling\n",
    "    df = pickle.load(fp)\n",
    "    \n",
    "model_drsc = df['drsc_model']\n",
    "imgs_stats = df['imgs_stats_sorted_by_r']"
   ]
  },
  {
   "cell_type": "code",
   "execution_count": null,
   "metadata": {},
   "outputs": [],
   "source": [
    "# load figure 6C\n",
    "matfile = loadmat('neural_drsc_20_locs_15_rsignal_bins.mat')\n",
    "neural_drsc = matfile['neural_drsc']\n",
    "ncase = matfile['ncase'][0][0]"
   ]
  },
  {
   "cell_type": "code",
   "execution_count": null,
   "metadata": {},
   "outputs": [],
   "source": [
    "fig, ax = plt.subplots(1, 1,figsize=(1.8, 2.0))\n",
    "\n",
    "vmin = np.min(imgs_stats)\n",
    "cmap = LinearSegmentedColormap.from_list('pwg', ['purple','white','green'])\n",
    "cax = sns.heatmap(np.flipud(imgs_stats),\n",
    "                ax = ax,\n",
    "                vmin = -0.1,\n",
    "                vmax = 0.1,\n",
    "                cmap = cmap,\n",
    "                linewidths=0,\n",
    "                linecolor = 'white',\n",
    "                cbar_kws={'label':r'$\\mathregular{{\\Delta}r_{sc}(small-large)}$'})\n",
    "\n",
    "cbar = cax.collections[0].colorbar\n",
    "cbar.ax.yaxis.set_tick_params(width=0.5,length=0.8,labelsize = 8)\n",
    "cbar.ax.yaxis.set_ticks([-0.1,-0.05, 0, 0.05, 0.1])\n",
    "cbar.ax.set_yticklabels([-0.1,-0.05, 0, 0.05, 0.1])\n",
    "cbar.ax.yaxis.set_label_coords(5.3,0.5)\n",
    "\n",
    "plt.xlabel(r'tuning dissimilarity $\\mathregular{(1-r_{signal})}$',labelpad=2)\n",
    "plt.ylabel(r'RF distance ($\\mathregular{\\Delta x}$)',labelpad=2)\n",
    "plt.xticks([0.05, 7.5, 14.95], labels = 1 - np.array([1, 0, -1],dtype = int))\n",
    "plt.yticks([16.9, 12.75, 8.5, 4.25, 0.1], labels = [0, 1, 2, 3, 4], rotation = 0)\n",
    "\n",
    "ax.tick_params(axis='both', labelsize=8, width = 1, length = 0.8, pad=2)\n",
    "\n",
    "ax.axhline(y = 17, color='black', linewidth = 2)\n",
    "ax.axvline(x = 0, color='black', linewidth = 2)\n",
    "\n",
    "ax.text(7.5, -1.5, 'image statistics', ha='center', va='center', fontsize=8, fontweight ='bold')\n",
    "\n",
    "for c in ax.collections:\n",
    "    c.set_rasterized(True)\n",
    "\n",
    "plt.savefig(f'figure6A.pdf', bbox_inches='tight',  dpi = 1200) "
   ]
  },
  {
   "cell_type": "code",
   "execution_count": null,
   "metadata": {},
   "outputs": [],
   "source": [
    "fig, ax = plt.subplots(1, 1,figsize=(1.8, 2.0))\n",
    "\n",
    "vmin = -0.1 \n",
    "vmax = 0.1\n",
    "cmap = LinearSegmentedColormap.from_list('rwb', ['red','white','blue'])\n",
    "cax = sns.heatmap(np.flipud(model_drsc),\n",
    "                ax = ax,\n",
    "                vmin = vmin,\n",
    "                vmax = vmax,\n",
    "                cmap = cmap,\n",
    "                linewidths=0,\n",
    "                linecolor = 'white',\n",
    "                cbar_kws={'label':r'$\\mathregular{{\\Delta}r_{sc}(small-large)}$'})\n",
    "\n",
    "cbar = cax.collections[0].colorbar\n",
    "cbar.ax.yaxis.set_tick_params(width=0.5,length=0.8,labelsize = 8)\n",
    "cbar.ax.yaxis.set_ticks([-0.1, -0.05, 0, 0.05, 0.1])\n",
    "cbar.ax.set_yticklabels([-0.1, -0.05, 0, 0.05, 0.1])\n",
    "cbar.ax.yaxis.set_label_coords(5.3,0.5)\n",
    "\n",
    "plt.xlabel(r'tuning dissimilarity $\\mathregular{(1-r_{signal})}$',labelpad=2)\n",
    "plt.ylabel(r'RF distance ($\\mathregular{\\Delta x}$)',labelpad=2)\n",
    "plt.xticks([0.05, 7.5, 14.95], labels = 1 - np.array([1, 0, -1],dtype = int))\n",
    "plt.yticks([16.9, 12.75, 8.5, 4.25, 0.1], labels = [0, 1, 2, 3, 4], rotation = 0)\n",
    "\n",
    "ax.tick_params(axis='both', labelsize=8, width = 1, length = 0.8, pad=2)\n",
    "\n",
    "ax.axhline(y = 17, color='black', linewidth = 2)\n",
    "ax.axvline(x = 0, color='black', linewidth = 2)\n",
    "\n",
    "ax.text(4,16.6, 'ncase = 127,500', fontsize=6)\n",
    "\n",
    "ax.text(7.5, -1.5, 'model predictions for $r_{sc}$', ha='center', va='center', fontsize=8, fontweight ='bold')\n",
    "\n",
    "for c in ax.collections:\n",
    "    c.set_rasterized(True)\n",
    "\n",
    "plt.savefig(f'figure6B.pdf', bbox_inches='tight',  dpi = 1200) "
   ]
  },
  {
   "cell_type": "code",
   "execution_count": null,
   "metadata": {},
   "outputs": [],
   "source": [
    "fig, ax = plt.subplots(1, 1,figsize=(1.8, 2.0))\n",
    "\n",
    "vmin = np.min(neural_drsc)\n",
    "cmap = LinearSegmentedColormap.from_list('rwb', ['red','white','blue'])\n",
    "cax = sns.heatmap((neural_drsc),\n",
    "                ax = ax,\n",
    "                vmin = vmin,\n",
    "                vmax = -vmin,\n",
    "                cmap = cmap,\n",
    "                linewidths=0,\n",
    "                linecolor = 'white',\n",
    "                cbar_kws={'label':r'$\\mathregular{{\\Delta}r_{sc}(small-large)}$'})\n",
    "\n",
    "cbar = cax.collections[0].colorbar\n",
    "cbar.ax.yaxis.set_tick_params(width=0.5,length=0.8,labelsize = 8)\n",
    "cbar.ax.yaxis.set_ticks([-0.1, -0.05, 0, 0.05, 0.1])\n",
    "cbar.ax.set_yticklabels([-0.1, -0.05, 0, 0.05, 0.1])\n",
    "cbar.ax.yaxis.set_label_coords(5.3,0.5)\n",
    "\n",
    "plt.xlabel(r'tuning dissimilarity $\\mathregular{(1-r_{signal})}$',labelpad=2)\n",
    "plt.ylabel(r'RF distance (deg)',labelpad=2)\n",
    "plt.xticks([0.05, 5.5, 10.5,14.95], labels = 1 - np.array([1, 0.5, 0, -0.5]))\n",
    "plt.yticks([19.95, 15, 10, 5, 0.05], labels = [0, 0.5, 1, 1.5, 2], rotation = 0)\n",
    "\n",
    "ax.tick_params(axis='both', labelsize=8, width = 1, length = 0.8, pad=2)\n",
    "\n",
    "ax.axhline(y = 20, color='black', linewidth = 2)\n",
    "ax.axvline(x = 0, color='black', linewidth = 2)\n",
    "\n",
    "ax.text(4,19.5, f'ncase = {ncase:,}',fontsize=6)\n",
    "\n",
    "ax.text(7.5, -1.5, 'V1 pairs', ha='center', va='center', fontsize=8, fontweight ='bold')\n",
    "\n",
    "for c in ax.collections:\n",
    "    c.set_rasterized(True)\n",
    "\n",
    "plt.savefig(f'figure6C.pdf', bbox_inches='tight',  dpi = 1200) "
   ]
  }
 ],
 "metadata": {
  "kernelspec": {
   "display_name": "pymc_env",
   "language": "python",
   "name": "python3"
  },
  "language_info": {
   "codemirror_mode": {
    "name": "ipython",
    "version": 3
   },
   "file_extension": ".py",
   "mimetype": "text/x-python",
   "name": "python",
   "nbconvert_exporter": "python",
   "pygments_lexer": "ipython3",
   "version": "3.12.9"
  },
  "orig_nbformat": 4
 },
 "nbformat": 4,
 "nbformat_minor": 2
}
