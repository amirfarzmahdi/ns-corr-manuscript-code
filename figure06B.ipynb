{
 "cells": [
  {
   "cell_type": "code",
   "execution_count": null,
   "metadata": {},
   "outputs": [],
   "source": [
    "# figure 6B: measuring drsc across different rsignal and distance thresholds\n",
    "# author: Amir Farzmahdi\n",
    "# last update: Jul 1st, 2024"
   ]
  },
  {
   "cell_type": "code",
   "execution_count": null,
   "metadata": {},
   "outputs": [],
   "source": [
    "# library imports\n",
    "import os\n",
    "import random\n",
    "import pickle\n",
    "import numpy as np\n",
    "import matplotlib\n",
    "import matplotlib.pyplot as plt\n",
    "import pyrtools as pt\n",
    "import time\n",
    "import scipy as sp\n",
    "import pandas as pd\n",
    "from scipy.stats import pearsonr"
   ]
  },
  {
   "cell_type": "code",
   "execution_count": null,
   "metadata": {},
   "outputs": [],
   "source": [
    "# set random seed\n",
    "np.random.seed(42)\n",
    "random.seed(42)"
   ]
  },
  {
   "cell_type": "code",
   "execution_count": null,
   "metadata": {},
   "outputs": [],
   "source": [
    "# settings\n",
    "\n",
    "# directory \n",
    "file_path = 'path to csv files'\n",
    "\n",
    "ncov_type = 'overlapped' \n",
    "dc_offset = 2 # 0 or 2\n",
    "\n",
    "# fixed\n",
    "ntest = 500 \n",
    "ntest_rsignal = 100 \n",
    "tr_cov_scale = 1\n",
    "noise_cov_scale_single = 1\n",
    "noise_cov_scale_pair_shared = 0.01\n",
    "noise_cov_scale_pair_ind = 1\n",
    "alpha = 1\n",
    "\n",
    "# filters parameters\n",
    "n_loc = 17\n",
    "n_theta = 15\n",
    "nsize = 2\n",
    "\n",
    "drsc_model = np.zeros((nsize, n_loc, n_theta))"
   ]
  },
  {
   "cell_type": "code",
   "execution_count": null,
   "metadata": {},
   "outputs": [],
   "source": [
    "# load log likelihood of natural images under shared versus independent GSM\n",
    "with open(f'p_diff_nat_images_{n_loc}_locs_{n_theta}_oris.csv', \"rb\") as fp:   # Unpickling\n",
    "    res = pickle.load(fp)\n",
    "    \n",
    "p_diff = res['p_diff']\n",
    "p_diff_binary = np.where(p_diff > 0, 1, 0) # convert to binary matrix"
   ]
  },
  {
   "cell_type": "code",
   "execution_count": null,
   "metadata": {},
   "outputs": [],
   "source": [
    "# load gsm samples\n",
    "def load_gsm_samples(file_path, model_type, noise_cov_scale_pair, nsize, n_loc, n_theta, ntest, ncov_type, tr_cov_scale, noise_cov_scale_single, dc_offset, alpha):\n",
    "    rsignal = np.zeros((nsize, n_loc, n_theta))\n",
    "    rsc_images = np.zeros((nsize, n_loc, n_theta, ntest))\n",
    "    \n",
    "    for i_loc in range(n_loc):\n",
    "\n",
    "        file_name = f'{file_path}{model_type}_gsm_{ncov_type}/{model_type}_gsm_level_1_bsd500_ncov_{ncov_type}_tr_{tr_cov_scale}_nsdp_{noise_cov_scale_single}_nsindp_{noise_cov_scale_pair}_nloc_{i_loc}_of_{n_loc}.csv'\n",
    "\n",
    "        with open(file_name, \"rb\") as fp:   \n",
    "            gsm_file = pickle.load(fp)\n",
    "        \n",
    "        for i_theta in range(n_theta):\n",
    "            for i_size in range(2): # two small and two large model neuron responses\n",
    "                avg_spike_count1 = []\n",
    "                avg_spike_count2 = []\n",
    "                for i_image in range(ntest):# ntest\n",
    "                    gc11 = gsm_file['gs'][i_size][i_theta][:,i_image,0] + dc_offset # phase 1\n",
    "                    gc12 = gsm_file['gs'][i_size][i_theta][:,i_image,9] + dc_offset # phase 2\n",
    "\n",
    "                    gc21 = gsm_file['gs'][i_size + 2][i_theta][:,i_image,0] + dc_offset  # phase 1\n",
    "                    gc22 = gsm_file['gs'][i_size + 2][i_theta][:,i_image,9] + dc_offset # phase 2\n",
    "\n",
    "                    # non-linearity- method 1: rectifier\n",
    "                    gc11 = gc11 * (gc11 > 0)\n",
    "                    gc12 = gc12 * (gc12 > 0)\n",
    "                    gc21 = gc21 * (gc21 > 0)\n",
    "                    gc22 = gc22 * (gc22 > 0)\n",
    "\n",
    "                    spike_count1 = alpha * (gc11 + gc12)\n",
    "                    spike_count2 = alpha * (gc21 + gc22)\n",
    "\n",
    "                    # measure noise correlation\n",
    "                    rsc_stat, _ = pearsonr(spike_count1, spike_count2)\n",
    "                    rsc_images[i_size, i_loc, i_theta, i_image] = rsc_stat\n",
    "\n",
    "                    avg_spike_count1.append(spike_count1.mean())\n",
    "                    avg_spike_count2.append(spike_count2.mean())\n",
    "\n",
    "                rsignal_stat, _ = pearsonr(avg_spike_count1[:ntest_rsignal], avg_spike_count2[:ntest_rsignal])\n",
    "                rsignal[i_size, i_loc, i_theta] = rsignal_stat\n",
    "            \n",
    "            print(f'loc{i_loc}-theta{i_theta}  mean:{np.nanmean(rsc_images[1, i_loc, i_theta, :])}   median:{np.nanmedian(rsc_images[1, i_loc, i_theta, :])}')\n",
    "        print('')\n",
    "            \n",
    "    rsc = np.nanmean(rsc_images, axis=(3))\n",
    "        \n",
    "    return rsignal, rsc"
   ]
  },
  {
   "cell_type": "code",
   "execution_count": null,
   "metadata": {},
   "outputs": [],
   "source": [
    "# load shared GSM samples\n",
    "model_type = 'shared'\n",
    "shared_rsignal, shared_rsc = load_gsm_samples(file_path, model_type, noise_cov_scale_pair_shared, nsize, n_loc, n_theta, ntest, ncov_type, tr_cov_scale, noise_cov_scale_single, dc_offset, alpha)"
   ]
  },
  {
   "cell_type": "code",
   "execution_count": null,
   "metadata": {},
   "outputs": [],
   "source": [
    "# load ind GSM samples\n",
    "model_type = 'ind'\n",
    "ind_rsignal, ind_rsc = load_gsm_samples(file_path, model_type, noise_cov_scale_pair_ind, nsize, n_loc, n_theta, ntest, ncov_type, tr_cov_scale, noise_cov_scale_single, dc_offset, alpha)"
   ]
  },
  {
   "cell_type": "code",
   "execution_count": null,
   "metadata": {},
   "outputs": [],
   "source": [
    "# measure drsc\n",
    "drsc_model = [shared_rsc[0] - shared_rsc[1], ind_rsc[0] - ind_rsc[1]]"
   ]
  },
  {
   "cell_type": "code",
   "execution_count": null,
   "metadata": {},
   "outputs": [],
   "source": [
    "# Create 15 intervals for rsignal from 1 to -1\n",
    "vector = np.linspace(1, -1, 17)\n",
    "print(vector)"
   ]
  },
  {
   "cell_type": "code",
   "execution_count": null,
   "metadata": {},
   "outputs": [],
   "source": [
    "def find_interval_index(value, boundaries):\n",
    "    \"\"\"\n",
    "    Find the interval index for a given value within sorted descending interval boundaries.\n",
    "    \n",
    "    Parameters:\n",
    "    - boundaries: List of sorted numbers defining the interval boundaries in descending order.\n",
    "    - value: The float value to classify into an interval.\n",
    "    \n",
    "    Returns:\n",
    "    - The index of the interval in which 'value' falls, or -1 if the value is out of bounds.\n",
    "    \"\"\"\n",
    "\n",
    "    if value > boundaries[0] or value < boundaries[-1]:\n",
    "        return -1  # Value is out of the defined boundaries\n",
    "\n",
    "    for i in range(len(boundaries) - 1):\n",
    "        if boundaries[i] >= value > boundaries[i + 1]:\n",
    "            return i\n",
    "\n",
    "    # Check if value is exactly equal to the last boundary\n",
    "    if value == boundaries[-1]:\n",
    "        return len(boundaries) - 2\n",
    "    return -1"
   ]
  },
  {
   "cell_type": "code",
   "execution_count": null,
   "metadata": {},
   "outputs": [],
   "source": [
    "# Initialize arrays\n",
    "i_size = 1  # large images\n",
    "\n",
    "rsc_sorted_r_d_shared = np.zeros((n_loc, n_theta))\n",
    "rsc_sorted_r_d_shared_idx = np.zeros((n_loc, n_theta))\n",
    "rsc_sorted_r_d_ind = np.zeros((n_loc, n_theta))\n",
    "rsc_sorted_r_d_ind_idx = np.zeros((n_loc, n_theta))\n",
    "imgs_stats_sorted_r = np.zeros((n_loc, n_theta))\n",
    "imgs_stats_sorted_r_idx = np.zeros((n_loc, n_theta))\n",
    "\n",
    "def update_rsc_arrays(rsignal, drsc_model, rsc_array, rsc_idx_array, i_loc, i_theta, vector):\n",
    "    index = find_interval_index(rsignal, vector)\n",
    "    print(f'value:{rsignal}, index:{index}')\n",
    "    rsc_array[i_loc, index] += drsc_model[i_loc, i_theta]\n",
    "    rsc_idx_array[i_loc, index] += 1\n",
    "\n",
    "for i_loc in range(n_loc):\n",
    "    for i_theta in range(n_theta):\n",
    "        # Update shared arrays\n",
    "        update_rsc_arrays(shared_rsignal[i_size, i_loc, i_theta], drsc_model[0], rsc_sorted_r_d_shared, rsc_sorted_r_d_shared_idx, i_loc, i_theta, vector)\n",
    "        \n",
    "        # Update independent arrays\n",
    "        update_rsc_arrays(ind_rsignal[i_size, i_loc, i_theta], drsc_model[1], rsc_sorted_r_d_ind, rsc_sorted_r_d_ind_idx, i_loc, i_theta, vector)\n",
    "        \n",
    "        # Update image statistics arrays\n",
    "        if p_diff_binary[i_loc, i_theta] == 1:\n",
    "            index = find_interval_index(shared_rsignal[i_size, i_loc, i_theta], vector)\n",
    "        elif p_diff_binary[i_loc, i_theta] == 0:\n",
    "            index = find_interval_index(ind_rsignal[i_size, i_loc, i_theta], vector)\n",
    "            \n",
    "        imgs_stats_sorted_r[i_loc, index] += p_diff[i_loc, i_theta]\n",
    "        imgs_stats_sorted_r_idx[i_loc, index] += 1\n",
    "\n",
    "# Safely divide arrays, replacing zero denominators with 1 to avoid division by zero\n",
    "def safe_divide(numerator, denominator):\n",
    "    return np.divide(numerator, denominator, where=denominator != 0, out=np.zeros_like(numerator))\n",
    "\n",
    "rsc_sorted_r_d_shared_val = safe_divide(rsc_sorted_r_d_shared, rsc_sorted_r_d_shared_idx)\n",
    "rsc_sorted_r_d_ind_val = safe_divide(rsc_sorted_r_d_ind, rsc_sorted_r_d_ind_idx)\n",
    "imgs_stats_sorted_r_val = safe_divide(imgs_stats_sorted_r, imgs_stats_sorted_r_idx)"
   ]
  },
  {
   "cell_type": "code",
   "execution_count": null,
   "metadata": {},
   "outputs": [],
   "source": [
    "# drsc model selected based on image statistics\n",
    "imgs_stats_binary_shared = np.where(imgs_stats_sorted_r_val > 0, 1, 0)\n",
    "imgs_stats_binary_ind = np.where(imgs_stats_sorted_r_val < 0, 1, 0)\n",
    "\n",
    "rsc_model_ind = rsc_sorted_r_d_ind_val * imgs_stats_binary_ind\n",
    "rsc_model_shared = rsc_sorted_r_d_shared_val * imgs_stats_binary_shared\n",
    "\n",
    "drsc_model_selected = np.nan_to_num(rsc_model_shared, nan=0) + np.nan_to_num(rsc_model_ind, nan=0)"
   ]
  },
  {
   "cell_type": "code",
   "execution_count": null,
   "metadata": {},
   "outputs": [],
   "source": [
    "# save model drsc_model and imgs statistics sorted by rsignal\n",
    "with open(f'drsc_model_imgs_stats_sorted_{n_loc}_locs_{n_theta}_oris_ncov_{ncov_type}_offset_{dc_offset}.csv', \"wb\") as fp:  \n",
    "    pickle.dump(dict(drsc_model = drsc_model_selected,\n",
    "                     imgs_stats_sorted_by_r = imgs_stats_sorted_r_val,\n",
    "                     rsc_sorted_r_d_ind_val = rsc_sorted_r_d_ind_val,\n",
    "                     rsc_sorted_r_d_shared_val = rsc_sorted_r_d_shared_val,\n",
    "                     imgs_stats_binary_ind = imgs_stats_binary_ind,\n",
    "                     imgs_stats_binary_shared = imgs_stats_binary_shared\n",
    "                     ),fp)"
   ]
  }
 ],
 "metadata": {
  "kernelspec": {
   "display_name": "psycho_env",
   "language": "python",
   "name": "python3"
  },
  "language_info": {
   "codemirror_mode": {
    "name": "ipython",
    "version": 3
   },
   "file_extension": ".py",
   "mimetype": "text/x-python",
   "name": "python",
   "nbconvert_exporter": "python",
   "pygments_lexer": "ipython3",
   "version": "3.7.11"
  },
  "orig_nbformat": 4
 },
 "nbformat": 4,
 "nbformat_minor": 2
}
